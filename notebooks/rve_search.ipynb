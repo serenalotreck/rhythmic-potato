{
 "cells": [
  {
   "cell_type": "markdown",
   "id": "006be3d7-997b-4091-baa0-c4053e5ca1d3",
   "metadata": {},
   "source": [
    "# RVE search\n",
    "\n",
    "We want to look in modules 3 and 6 (new numbering) for RVE elements. We'll do this by plotting the forward and reverse complements of all the motifs in each module, next to those of the evening elements were interested in."
   ]
  },
  {
   "cell_type": "code",
   "execution_count": 34,
   "id": "8e7fa811-e84b-430c-882f-3798141e0249",
   "metadata": {},
   "outputs": [],
   "source": [
    "import os\n",
    "from os import listdir\n",
    "from os.path import splitext, basename\n",
    "import logomaker\n",
    "import pandas as pd\n",
    "import matplotlib.pyplot as plt"
   ]
  },
  {
   "cell_type": "markdown",
   "id": "cd89c93d-5435-4cf5-9216-ad504bf6dfe6",
   "metadata": {},
   "source": [
    "## Defining the functions\n",
    "We're going to adapt the code from Ann's motif_merge_functions notebook."
   ]
  },
  {
   "cell_type": "code",
   "execution_count": 56,
   "id": "49f1f6a5-1f8a-4681-ac86-99f41a7caf26",
   "metadata": {},
   "outputs": [],
   "source": [
    "def load_binding(path, remove=True):\n",
    "    # path should be to a file in the HOMER motif format, which is tab-separated\n",
    "    # the first row is a header (ignored)\n",
    "    # the rest are the position weights for A, C, G, and T\n",
    "    # \"remove\" (the fifth column) is empty; if your file doesn't have this, set remove to False\n",
    "    cols = [\"A\",\"C\",\"G\",\"T\"]\n",
    "    if remove == True:\n",
    "        cols.append(\"remove\")\n",
    "    df = pd.read_csv(path, sep=\"\\t\", header=None,skiprows=1,names=cols)\n",
    "    if remove == True:\n",
    "        df = df.drop(\"remove\", axis=1)\n",
    "    df.reset_index(names=\"position\", inplace=True)\n",
    "    return df"
   ]
  },
  {
   "cell_type": "code",
   "execution_count": 3,
   "id": "0840de33-a939-43fc-a627-c6ee8da0c7d2",
   "metadata": {},
   "outputs": [],
   "source": [
    "def rev_comp(df):\n",
    "    #reverse order first:\n",
    "    new = df.copy()\n",
    "    new.position = -1*new.position\n",
    "    new.sort_values(\"position\", ascending=True, inplace=True)\n",
    "    new.position = -1*new.position\n",
    "    new.reset_index(inplace=True, drop=True)\n",
    "    new.position=new.index\n",
    "    #complement by swapping A with T, G with C\n",
    "    new.rename({col: col+\"_old\" for col in new.columns if col != \"position\"}, axis=1, inplace=True)\n",
    "    new[\"A\"] = new.T_old\n",
    "    new[\"C\"] = new.G_old\n",
    "    new[\"G\"] = new.C_old\n",
    "    new[\"T\"] = new.A_old\n",
    "    new = new[[col for col in new.columns if \"old\" not in col]]\n",
    "    return new"
   ]
  },
  {
   "cell_type": "markdown",
   "id": "94ff7d23-7db4-4ff0-b341-138084640c0b",
   "metadata": {},
   "source": [
    "Now the one we need to actually change is the `make_logo` function. Currently it plots anything you give it on a new figure, but we want to be able to streamline this."
   ]
  },
  {
   "cell_type": "code",
   "execution_count": 5,
   "id": "874708af-0930-4169-84cd-e95d8776943a",
   "metadata": {},
   "outputs": [],
   "source": [
    "def make_logo(motif, ax):\n",
    "    # motif is a df with the columns of \"A\" \"C\" \"G\" and \"T\"\n",
    "    # optional columns include \"position\"\n",
    "    if \"position\" in motif.columns:\n",
    "        motif.set_index(\"position\", inplace=True)\n",
    "    num_bases = int(motif.index.max())\n",
    "    print(num_bases)\n",
    "    motif_t = logomaker.transform_matrix(motif, from_type=\"probability\", to_type=\"information\")\n",
    "    logo = logomaker.Logo(motif_t, figsize=(num_bases, 2.5), ax=ax)"
   ]
  },
  {
   "cell_type": "code",
   "execution_count": 57,
   "id": "7e5f6bd4-8992-4a89-89ea-626e470a66dc",
   "metadata": {},
   "outputs": [],
   "source": [
    "def plot_multiple_logos(search_for, search_against):\n",
    "    \"\"\"\n",
    "    Plot forward and reverse complements of motifs in a way that allows\n",
    "    direct comparison.\n",
    "\n",
    "    parameters:\n",
    "        search_for, list of str: paths of motif files containingthe motifs of\n",
    "            interest that we're looking for\n",
    "        search_against, list of str: paths of motif files from a given module\n",
    "            to search through for search_for motifs\n",
    "\n",
    "    returns: None\n",
    "    \"\"\"\n",
    "    # Make two cols for every motif to search for plus to for the search against\n",
    "    num_cols = len(search_for)*2 + 2\n",
    "    num_rows = len(search_against)\n",
    "\n",
    "    # Get the forward and reverse complements of the search_fors\n",
    "    search_for_data = {}\n",
    "    for_names = []\n",
    "    for s in search_for:\n",
    "        name = splitext(basename(s))[0]\n",
    "        for_names.append(name)\n",
    "        forward = load_binding(s, remove=False)\n",
    "        reverse = rev_comp(forward)\n",
    "        search_for_data[name] = {'forward': forward, 'reverse': reverse}\n",
    "\n",
    "    # Do the same for the search against\n",
    "    search_against_data = {}\n",
    "    against_names = []\n",
    "    for s in search_against:\n",
    "        name = splitext(basename(s))[0]\n",
    "        against_names.append(name)\n",
    "        forward = load_binding(s, remove=True)\n",
    "        reverse = rev_comp(forward)\n",
    "        search_against_data[name] = {'forward': forward, 'reverse': reverse}\n",
    "\n",
    "    # Now plot\n",
    "    fig, axs = plt.subplots(num_rows, num_cols)\n",
    "\n",
    "    # The first len(search_for)*2 cols will always have the same plots in every row\n",
    "    for i, ax_row in enumerate(axs):\n",
    "        for j, ax in enumerate(ax_row):\n",
    "            if (j % 2 == 0) and (j < len(search_for)*2): # Then it's a search_for forward plot\n",
    "                motif = search_for_data[for_names[j]]['forward']\n",
    "                make_logo(motif.copy())\n",
    "                ax.set_title(f'{for_names[j]} forward')\n",
    "            elif (j % 2 != 0) and (j < len(search_for)*2): # Then it's a search_for reverse plot\n",
    "                motif = search_for_data[for_names[j]]['reverse']\n",
    "                make_logo(motif.copy())\n",
    "                ax.set_title(f'{for_names[j]} reverse')\n",
    "            elif (j % 2 == 0) and (j > len(search_for)*2): # Then it's a search_against forward plot\n",
    "                motif = search_against_data[against_names[i]]['forward']\n",
    "                make_logo(motif.copy())\n",
    "                ax.set_title(f'{for_names[j]} forward')\n",
    "            elif (j % 2 != 0) and (j > len(search_for)*2): # Then it's a search_against reverse plot\n",
    "                motif = search_against_data[against_names[i]]['forward']\n",
    "                make_logo(motif.copy())\n",
    "                ax.set_title(f'{for_names[j]} reverse')"
   ]
  },
  {
   "cell_type": "markdown",
   "id": "43978fa4-0814-4e35-aa77-96ce28d69cdf",
   "metadata": {},
   "source": [
    "## Making plots\n",
    "First, we need to define the filepaths that we're going to plot. First we need to get the RVE elements:"
   ]
  },
  {
   "cell_type": "code",
   "execution_count": 48,
   "id": "45b5dbb7-6318-47db-8441-fd8661838969",
   "metadata": {},
   "outputs": [],
   "source": [
    "rve_elements = [\n",
    "    'AT2G46830',\n",
    "    'AT1G01060',\n",
    "    'AT5G17300',\n",
    "    'AT4G01280',\n",
    "    'AT5G02840',\n",
    "    'AT3G09600',\n",
    "    'AT5G52660'\n",
    "]"
   ]
  },
  {
   "cell_type": "code",
   "execution_count": 49,
   "id": "b492e115-9b64-45b3-9b1a-74db519bceeb",
   "metadata": {},
   "outputs": [],
   "source": [
    "rve_path = '/home/farre/Ann/RNAseq/HOMER_analysis/motif_locations/Ath_TF_binding_motifs'\n",
    "rve_motif_paths = [\n",
    "    f'{rve_path}/{f}' for f in listdir(rve_path)\n",
    "    if (f.split('_')[0] in rve_elements) and (f.split('_')[1] == 'ATL')\n",
    "]"
   ]
  },
  {
   "cell_type": "markdown",
   "id": "958931a9-7221-483a-b28f-58c954fbbaf9",
   "metadata": {},
   "source": [
    "Now we need the elements to search against. Let's start with module 3, which is old module 29:"
   ]
  },
  {
   "cell_type": "code",
   "execution_count": 50,
   "id": "4e242e7f-cd7f-4b00-b00a-20ac8127359d",
   "metadata": {},
   "outputs": [],
   "source": [
    "module3_path = '../data/outputs/ATL_CND_ShD_Leaf_timey_backgrounds_500_start_05May2025/ATL_ShD_Leaf_vs_CND_ShD_Leaf/module_29/ATL/homerResults'\n",
    "module3_motif_paths = [\n",
    "    f'{module3_path}/{f}' for f in listdir('../data/outputs/ATL_CND_ShD_Leaf_timey_backgrounds_500_start_05May2025/ATL_ShD_Leaf_vs_CND_ShD_Leaf/module_29/ATL/homerResults')\n",
    "    if splitext(f)[1] == '.motif' and 'RV' not in f and 'similar' not in f\n",
    "]\n",
    "module3_motif_paths.sort(key = lambda x: int(splitext(basename(x))[0][5:]))"
   ]
  },
  {
   "cell_type": "markdown",
   "id": "1fb825ed-1bc7-44a9-ad0b-30b404388049",
   "metadata": {},
   "source": [
    "Now plot:"
   ]
  },
  {
   "cell_type": "code",
   "execution_count": 58,
   "id": "26c33039-81ee-422b-a9f2-213fb54bd42b",
   "metadata": {},
   "outputs": [
    {
     "ename": "IndexError",
     "evalue": "list index out of range",
     "output_type": "error",
     "traceback": [
      "\u001b[0;31m---------------------------------------------------------------------------\u001b[0m",
      "\u001b[0;31mIndexError\u001b[0m                                Traceback (most recent call last)",
      "\u001b[0;32m/tmp/ipykernel_441774/2692748208.py\u001b[0m in \u001b[0;36m?\u001b[0;34m()\u001b[0m\n\u001b[0;32m----> 1\u001b[0;31m \u001b[0mplot_multiple_logos\u001b[0m\u001b[0;34m(\u001b[0m\u001b[0mrve_motif_paths\u001b[0m\u001b[0;34m,\u001b[0m \u001b[0mmodule3_motif_paths\u001b[0m\u001b[0;34m)\u001b[0m\u001b[0;34m\u001b[0m\u001b[0;34m\u001b[0m\u001b[0m\n\u001b[0m",
      "\u001b[0;32m/tmp/ipykernel_441774/1931243078.py\u001b[0m in \u001b[0;36m?\u001b[0;34m(search_for, search_against)\u001b[0m\n\u001b[1;32m     20\u001b[0m     \u001b[0mfor_names\u001b[0m \u001b[0;34m=\u001b[0m \u001b[0;34m[\u001b[0m\u001b[0;34m]\u001b[0m\u001b[0;34m\u001b[0m\u001b[0;34m\u001b[0m\u001b[0m\n\u001b[1;32m     21\u001b[0m     \u001b[0;32mfor\u001b[0m \u001b[0ms\u001b[0m \u001b[0;32min\u001b[0m \u001b[0msearch_for\u001b[0m\u001b[0;34m:\u001b[0m\u001b[0;34m\u001b[0m\u001b[0;34m\u001b[0m\u001b[0m\n\u001b[1;32m     22\u001b[0m         \u001b[0mname\u001b[0m \u001b[0;34m=\u001b[0m \u001b[0msplitext\u001b[0m\u001b[0;34m(\u001b[0m\u001b[0mbasename\u001b[0m\u001b[0;34m(\u001b[0m\u001b[0ms\u001b[0m\u001b[0;34m)\u001b[0m\u001b[0;34m)\u001b[0m\u001b[0;34m[\u001b[0m\u001b[0;36m0\u001b[0m\u001b[0;34m]\u001b[0m\u001b[0;34m\u001b[0m\u001b[0;34m\u001b[0m\u001b[0m\n\u001b[1;32m     23\u001b[0m         \u001b[0mfor_names\u001b[0m\u001b[0;34m.\u001b[0m\u001b[0mappend\u001b[0m\u001b[0;34m(\u001b[0m\u001b[0mname\u001b[0m\u001b[0;34m)\u001b[0m\u001b[0;34m\u001b[0m\u001b[0;34m\u001b[0m\u001b[0m\n\u001b[0;32m---> 24\u001b[0;31m         \u001b[0mforward\u001b[0m \u001b[0;34m=\u001b[0m \u001b[0mload_binding\u001b[0m\u001b[0;34m(\u001b[0m\u001b[0ms\u001b[0m\u001b[0;34m,\u001b[0m \u001b[0mremove\u001b[0m\u001b[0;34m=\u001b[0m\u001b[0;32mFalse\u001b[0m\u001b[0;34m)\u001b[0m\u001b[0;34m\u001b[0m\u001b[0;34m\u001b[0m\u001b[0m\n\u001b[0m\u001b[1;32m     25\u001b[0m         \u001b[0mreverse\u001b[0m \u001b[0;34m=\u001b[0m \u001b[0mrev_comp\u001b[0m\u001b[0;34m(\u001b[0m\u001b[0mforward\u001b[0m\u001b[0;34m)\u001b[0m\u001b[0;34m\u001b[0m\u001b[0;34m\u001b[0m\u001b[0m\n\u001b[1;32m     26\u001b[0m         \u001b[0msearch_for_data\u001b[0m\u001b[0;34m[\u001b[0m\u001b[0mname\u001b[0m\u001b[0;34m]\u001b[0m \u001b[0;34m=\u001b[0m \u001b[0;34m{\u001b[0m\u001b[0;34m'forward'\u001b[0m\u001b[0;34m:\u001b[0m \u001b[0mforward\u001b[0m\u001b[0;34m,\u001b[0m \u001b[0;34m'reverse'\u001b[0m\u001b[0;34m:\u001b[0m \u001b[0mreverse\u001b[0m\u001b[0;34m}\u001b[0m\u001b[0;34m\u001b[0m\u001b[0;34m\u001b[0m\u001b[0m\n\u001b[1;32m     27\u001b[0m \u001b[0;34m\u001b[0m\u001b[0m\n",
      "\u001b[0;32m/tmp/ipykernel_441774/4252159779.py\u001b[0m in \u001b[0;36m?\u001b[0;34m(path, remove)\u001b[0m\n\u001b[1;32m      8\u001b[0m         \u001b[0mcols\u001b[0m\u001b[0;34m.\u001b[0m\u001b[0mappend\u001b[0m\u001b[0;34m(\u001b[0m\u001b[0;34m\"remove\"\u001b[0m\u001b[0;34m)\u001b[0m\u001b[0;34m\u001b[0m\u001b[0;34m\u001b[0m\u001b[0m\n\u001b[1;32m      9\u001b[0m     \u001b[0mdf\u001b[0m \u001b[0;34m=\u001b[0m \u001b[0mpd\u001b[0m\u001b[0;34m.\u001b[0m\u001b[0mread_csv\u001b[0m\u001b[0;34m(\u001b[0m\u001b[0mpath\u001b[0m\u001b[0;34m,\u001b[0m \u001b[0msep\u001b[0m\u001b[0;34m=\u001b[0m\u001b[0;34m\"\\t\"\u001b[0m\u001b[0;34m,\u001b[0m \u001b[0mheader\u001b[0m\u001b[0;34m=\u001b[0m\u001b[0;32mNone\u001b[0m\u001b[0;34m,\u001b[0m\u001b[0mskiprows\u001b[0m\u001b[0;34m=\u001b[0m\u001b[0;36m1\u001b[0m\u001b[0;34m,\u001b[0m\u001b[0mnames\u001b[0m\u001b[0;34m=\u001b[0m\u001b[0mcols\u001b[0m\u001b[0;34m)\u001b[0m\u001b[0;34m\u001b[0m\u001b[0;34m\u001b[0m\u001b[0m\n\u001b[1;32m     10\u001b[0m     \u001b[0;32mif\u001b[0m \u001b[0mremove\u001b[0m \u001b[0;34m==\u001b[0m \u001b[0;32mTrue\u001b[0m\u001b[0;34m:\u001b[0m\u001b[0;34m\u001b[0m\u001b[0;34m\u001b[0m\u001b[0m\n\u001b[1;32m     11\u001b[0m         \u001b[0mdf\u001b[0m \u001b[0;34m=\u001b[0m \u001b[0mdf\u001b[0m\u001b[0;34m.\u001b[0m\u001b[0mdrop\u001b[0m\u001b[0;34m(\u001b[0m\u001b[0;34m\"remove\"\u001b[0m\u001b[0;34m,\u001b[0m \u001b[0maxis\u001b[0m\u001b[0;34m=\u001b[0m\u001b[0;36m1\u001b[0m\u001b[0;34m)\u001b[0m\u001b[0;34m\u001b[0m\u001b[0;34m\u001b[0m\u001b[0m\n\u001b[0;32m---> 12\u001b[0;31m     \u001b[0mdf\u001b[0m\u001b[0;34m.\u001b[0m\u001b[0mreset_index\u001b[0m\u001b[0;34m(\u001b[0m\u001b[0mnames\u001b[0m\u001b[0;34m=\u001b[0m\u001b[0;34m\"position\"\u001b[0m\u001b[0;34m,\u001b[0m \u001b[0minplace\u001b[0m\u001b[0;34m=\u001b[0m\u001b[0;32mTrue\u001b[0m\u001b[0;34m)\u001b[0m\u001b[0;34m\u001b[0m\u001b[0;34m\u001b[0m\u001b[0m\n\u001b[0m\u001b[1;32m     13\u001b[0m     \u001b[0;32mreturn\u001b[0m \u001b[0mdf\u001b[0m\u001b[0;34m\u001b[0m\u001b[0;34m\u001b[0m\u001b[0m\n",
      "\u001b[0;32m~/.conda/envs/genetics/lib/python3.10/site-packages/pandas/core/frame.py\u001b[0m in \u001b[0;36m?\u001b[0;34m(self, level, drop, inplace, col_level, col_fill, allow_duplicates, names)\u001b[0m\n\u001b[1;32m   6440\u001b[0m             \u001b[0mmulti_col\u001b[0m \u001b[0;34m=\u001b[0m \u001b[0misinstance\u001b[0m\u001b[0;34m(\u001b[0m\u001b[0mself\u001b[0m\u001b[0;34m.\u001b[0m\u001b[0mcolumns\u001b[0m\u001b[0;34m,\u001b[0m \u001b[0mMultiIndex\u001b[0m\u001b[0;34m)\u001b[0m\u001b[0;34m\u001b[0m\u001b[0;34m\u001b[0m\u001b[0m\n\u001b[1;32m   6441\u001b[0m             \u001b[0;32mfor\u001b[0m \u001b[0mi\u001b[0m\u001b[0;34m,\u001b[0m \u001b[0;34m(\u001b[0m\u001b[0mlev\u001b[0m\u001b[0;34m,\u001b[0m \u001b[0mlab\u001b[0m\u001b[0;34m)\u001b[0m \u001b[0;32min\u001b[0m \u001b[0mreversed\u001b[0m\u001b[0;34m(\u001b[0m\u001b[0mlist\u001b[0m\u001b[0;34m(\u001b[0m\u001b[0menumerate\u001b[0m\u001b[0;34m(\u001b[0m\u001b[0mto_insert\u001b[0m\u001b[0;34m)\u001b[0m\u001b[0;34m)\u001b[0m\u001b[0;34m)\u001b[0m\u001b[0;34m:\u001b[0m\u001b[0;34m\u001b[0m\u001b[0;34m\u001b[0m\u001b[0m\n\u001b[1;32m   6442\u001b[0m                 \u001b[0;32mif\u001b[0m \u001b[0mlevel\u001b[0m \u001b[0;32mis\u001b[0m \u001b[0;32mnot\u001b[0m \u001b[0;32mNone\u001b[0m \u001b[0;32mand\u001b[0m \u001b[0mi\u001b[0m \u001b[0;32mnot\u001b[0m \u001b[0;32min\u001b[0m \u001b[0mlevel\u001b[0m\u001b[0;34m:\u001b[0m\u001b[0;34m\u001b[0m\u001b[0;34m\u001b[0m\u001b[0m\n\u001b[1;32m   6443\u001b[0m                     \u001b[0;32mcontinue\u001b[0m\u001b[0;34m\u001b[0m\u001b[0;34m\u001b[0m\u001b[0m\n\u001b[0;32m-> 6444\u001b[0;31m                 \u001b[0mname\u001b[0m \u001b[0;34m=\u001b[0m \u001b[0mnames\u001b[0m\u001b[0;34m[\u001b[0m\u001b[0mi\u001b[0m\u001b[0;34m]\u001b[0m\u001b[0;34m\u001b[0m\u001b[0;34m\u001b[0m\u001b[0m\n\u001b[0m\u001b[1;32m   6445\u001b[0m                 \u001b[0;32mif\u001b[0m \u001b[0mmulti_col\u001b[0m\u001b[0;34m:\u001b[0m\u001b[0;34m\u001b[0m\u001b[0;34m\u001b[0m\u001b[0m\n\u001b[1;32m   6446\u001b[0m                     \u001b[0mcol_name\u001b[0m \u001b[0;34m=\u001b[0m \u001b[0mlist\u001b[0m\u001b[0;34m(\u001b[0m\u001b[0mname\u001b[0m\u001b[0;34m)\u001b[0m \u001b[0;32mif\u001b[0m \u001b[0misinstance\u001b[0m\u001b[0;34m(\u001b[0m\u001b[0mname\u001b[0m\u001b[0;34m,\u001b[0m \u001b[0mtuple\u001b[0m\u001b[0;34m)\u001b[0m \u001b[0;32melse\u001b[0m \u001b[0;34m[\u001b[0m\u001b[0mname\u001b[0m\u001b[0;34m]\u001b[0m\u001b[0;34m\u001b[0m\u001b[0;34m\u001b[0m\u001b[0m\n\u001b[1;32m   6447\u001b[0m                     \u001b[0;32mif\u001b[0m \u001b[0mcol_fill\u001b[0m \u001b[0;32mis\u001b[0m \u001b[0;32mNone\u001b[0m\u001b[0;34m:\u001b[0m\u001b[0;34m\u001b[0m\u001b[0;34m\u001b[0m\u001b[0m\n",
      "\u001b[0;31mIndexError\u001b[0m: list index out of range"
     ]
    }
   ],
   "source": [
    "plot_multiple_logos(rve_motif_paths, module3_motif_paths)"
   ]
  },
  {
   "cell_type": "code",
   "execution_count": null,
   "id": "62f59922-0211-4183-9c65-366a625601ac",
   "metadata": {},
   "outputs": [],
   "source": []
  }
 ],
 "metadata": {
  "kernelspec": {
   "display_name": "Genetics",
   "language": "python",
   "name": "genetics"
  },
  "language_info": {
   "codemirror_mode": {
    "name": "ipython",
    "version": 3
   },
   "file_extension": ".py",
   "mimetype": "text/x-python",
   "name": "python",
   "nbconvert_exporter": "python",
   "pygments_lexer": "ipython3",
   "version": "3.10.14"
  }
 },
 "nbformat": 4,
 "nbformat_minor": 5
}
