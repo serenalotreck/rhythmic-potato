{
 "cells": [
  {
   "cell_type": "markdown",
   "id": "2a33c40d-3dc6-4eae-a528-2a6f74bef2a3",
   "metadata": {},
   "source": [
    "# Checking motif overlap\n",
    "We want to see, for motifs that appear enriched in CND, if they are also present in ATL. We used `annotatePeaks.pl` from HOMER for the heavy lifting here; we now just need to read in the inputs and summarize them."
   ]
  },
  {
   "cell_type": "code",
   "execution_count": 151,
   "id": "06158144-1ee9-4167-969e-3c5c1ba41aad",
   "metadata": {},
   "outputs": [],
   "source": [
    "from os import listdir\n",
    "from os.path import splitext, isfile, abspath\n",
    "import pandas as pd\n",
    "from tqdm import tqdm\n",
    "from collections import defaultdict\n",
    "from scipy.stats import fisher_exact, false_discovery_control\n",
    "import matplotlib.pyplot as plt\n",
    "from itertools import product\n",
    "import json"
   ]
  },
  {
   "cell_type": "markdown",
   "id": "367009e4-665c-4ba6-b4b1-a23a68e3a76f",
   "metadata": {},
   "source": [
    "## Reading in the data\n",
    "Data are stored as tab-delimited files. However, most of the rows are empty of useful information; each file contains every promoter in the entire ATL genome, with only a few rows containing something in the column that shows motif matches. Unfortunately that column does not have a consisten name; however, it is always the last one. Additionally, the RV motif output files should be semantically identical to the forward ones, with the possible exception of the sequence being flipped in the macthed motif. We will conserve both for the moment in order to check them later."
   ]
  },
  {
   "cell_type": "code",
   "execution_count": 2,
   "id": "83622e87-9661-4ce8-93c3-238a5e4d79db",
   "metadata": {},
   "outputs": [
    {
     "name": "stderr",
     "output_type": "stream",
     "text": [
      " 15%|████████████▏                                                                   | 203/1333 [02:01<11:24,  1.65it/s]/tmp/ipykernel_3793586/68569872.py:7: DtypeWarning: Columns (21) have mixed types. Specify dtype option on import or set low_memory=False.\n",
      "  df = pd.read_csv(f'{data_dir}/{f}', sep='\\t', header=0)\n",
      " 15%|████████████▏                                                                   | 204/1333 [02:02<11:19,  1.66it/s]/tmp/ipykernel_3793586/68569872.py:7: DtypeWarning: Columns (21) have mixed types. Specify dtype option on import or set low_memory=False.\n",
      "  df = pd.read_csv(f'{data_dir}/{f}', sep='\\t', header=0)\n",
      "100%|███████████████████████████████████████████████████████████████████████████████| 1333/1333 [14:08<00:00,  1.57it/s]\n"
     ]
    }
   ],
   "source": [
    "data_dir = '../data/outputs/annotated_motifs/CND_searching_ATL_timey_background_ShD_16Apr2025'\n",
    "motif_matches = defaultdict(dict)\n",
    "for f in tqdm(listdir(data_dir)):\n",
    "    if isfile(f'{data_dir}/{f}'):\n",
    "        module = '_'.join(splitext(f)[0].split('_')[:2])\n",
    "        motif = splitext(f)[0].split('_')[2]\n",
    "        df = pd.read_csv(f'{data_dir}/{f}', sep='\\t', header=0)\n",
    "        motif_matches[module][motif] = df"
   ]
  },
  {
   "cell_type": "markdown",
   "id": "5a8d2256-8146-495f-a5e2-be5e07d2a588",
   "metadata": {},
   "source": [
    "### Check that the forward and reverse identifications are the same\n",
    "There are two main things to check: first, that the same rows are present in the dataframe, and second, that the identified sequences are either identical or just reverse complements. But first, did every motif have a reverse complement checked?"
   ]
  },
  {
   "cell_type": "code",
   "execution_count": 41,
   "id": "51a3efcb-a6af-4ade-b379-7b18c25fe62b",
   "metadata": {},
   "outputs": [],
   "source": [
    "no_rev = 0\n",
    "mismatch = 0\n",
    "for module, motifs in motif_matches.items():\n",
    "    for motif, df in motifs.items():\n",
    "        if 'RV' not in motif:\n",
    "            rev_motif = motif + 'RV'\n",
    "            if rev_motif not in motifs.keys():\n",
    "                no_rev += 1\n",
    "            else:\n",
    "                # Check if the contents are the same\n",
    "                try:\n",
    "                    # Rather than checking entire df, just check if the gene names with\n",
    "                    # non-NaN in the column of interest are the same\n",
    "                    gset1 = set(motifs[motif][~motifs[motif].iloc[:, -1].isna()].iloc[:, 0].tolist())\n",
    "                    gset2 = set(motifs[rev_motif][~motifs[rev_motif].iloc[:, -1].isna()].iloc[:, 0].tolist())\n",
    "                    assert gset1 == gset2\n",
    "                except AssertionError as e:\n",
    "                    mismatch += 1"
   ]
  },
  {
   "cell_type": "code",
   "execution_count": 42,
   "id": "a0d68692-d1f9-4125-a589-fb9b31af52fa",
   "metadata": {},
   "outputs": [
    {
     "data": {
      "text/plain": [
       "(0, 0)"
      ]
     },
     "execution_count": 42,
     "metadata": {},
     "output_type": "execute_result"
    }
   ],
   "source": [
    "no_rev, mismatch"
   ]
  },
  {
   "cell_type": "markdown",
   "id": "0c607c4a-91c5-4a74-a60f-04e0e2af90ff",
   "metadata": {},
   "source": [
    "The reverses and the forward do in fact identify the same genes! This means we can remove any items that have RV in the motif name:"
   ]
  },
  {
   "cell_type": "code",
   "execution_count": 43,
   "id": "ee1190e1-3d41-4cf9-8eaa-2bf1873f66c3",
   "metadata": {},
   "outputs": [],
   "source": [
    "motif_matches_forward_only = {\n",
    "    mod: {mot: v for mot, v in motifs.items() if 'RV' not in mot}\n",
    "    for mod, motifs in motif_matches.items()\n",
    "}"
   ]
  },
  {
   "cell_type": "markdown",
   "id": "2859aa0e-ca56-4247-acf6-da8d7352e188",
   "metadata": {},
   "source": [
    "### Reading in the module data\n",
    "We also need to check whether or not the matches are within the same module, so we need to read in the module memberships. We need to replace underscores with periods here to match the values in the gene ID column of our motif matching results:"
   ]
  },
  {
   "cell_type": "code",
   "execution_count": 55,
   "id": "bacb20a8-ed6f-456c-a5cd-9e18ff23a87a",
   "metadata": {
    "scrolled": true
   },
   "outputs": [],
   "source": [
    "module_base_path = '/home/farre/Ann/RNAseq/HOMER_analysis/queries/shd_pca_modulesapril2024'\n",
    "module_members = {'ATL': {}, 'CND': {}}\n",
    "for module in listdir(module_base_path):\n",
    "    if 'ATL_ShD_Leaf_vs_CND_ShD_Leaf_' in module and '.txt' in module:\n",
    "        module_basename = splitext(module)[0][len('ATL_ShD_Leaf_vs_CND_ShD_Leaf_'):-len('_in_XXX')]\n",
    "        species = splitext(module)[0][-3:]\n",
    "        with open(f'{module_base_path}/{module}') as f:\n",
    "            module_genes = [l.strip() for l in f.readlines()]\n",
    "        module_genes = [s[:s.rfind('_')] + '.' + s[s.rfind('_')+1:] for s in module_genes]\n",
    "        module_members[species][module_basename] = module_genes"
   ]
  },
  {
   "cell_type": "markdown",
   "id": "a684c597-91a6-4b6e-b820-fce2163280b7",
   "metadata": {},
   "source": [
    "For our Fisher's Exact test we'll also need a complete list of the genes in all modules for ATL."
   ]
  },
  {
   "cell_type": "code",
   "execution_count": 57,
   "id": "290f5e43-d52f-4713-9905-cb0c730c20d6",
   "metadata": {},
   "outputs": [],
   "source": [
    "all_module_genes_ATL = []\n",
    "for mod, members in module_members['ATL'].items():\n",
    "    all_module_genes_ATL += members"
   ]
  },
  {
   "cell_type": "markdown",
   "id": "e29fddfc-ed06-4414-9ef8-8b9bc001d8c1",
   "metadata": {},
   "source": [
    "## Motif matching\n",
    "Now we go through each module's motif matches and see how many genes within that module have motif matches. We searched ATL with the motifs we identified in CND, so we will need the ATL gene ID's."
   ]
  },
  {
   "cell_type": "code",
   "execution_count": 58,
   "id": "1b536676-e58e-43a3-a0c4-5ad4cdf0ec67",
   "metadata": {},
   "outputs": [
    {
     "name": "stdout",
     "output_type": "stream",
     "text": [
      "On module module_0 of 18\n"
     ]
    },
    {
     "name": "stderr",
     "output_type": "stream",
     "text": [
      "                                                                                                                        \r"
     ]
    },
    {
     "name": "stdout",
     "output_type": "stream",
     "text": [
      "On module module_1 of 18\n"
     ]
    },
    {
     "name": "stderr",
     "output_type": "stream",
     "text": [
      "                                                                                                                        \r"
     ]
    },
    {
     "name": "stdout",
     "output_type": "stream",
     "text": [
      "On module module_2 of 18\n"
     ]
    },
    {
     "name": "stderr",
     "output_type": "stream",
     "text": [
      "                                                                                                                        \r"
     ]
    },
    {
     "name": "stdout",
     "output_type": "stream",
     "text": [
      "On module module_25 of 18\n"
     ]
    },
    {
     "name": "stderr",
     "output_type": "stream",
     "text": [
      "                                                                                                                        \r"
     ]
    },
    {
     "name": "stdout",
     "output_type": "stream",
     "text": [
      "On module module_26 of 18\n"
     ]
    },
    {
     "name": "stderr",
     "output_type": "stream",
     "text": [
      "                                                                                                                        \r"
     ]
    },
    {
     "name": "stdout",
     "output_type": "stream",
     "text": [
      "On module module_27 of 18\n"
     ]
    },
    {
     "name": "stderr",
     "output_type": "stream",
     "text": [
      "                                                                                                                        \r"
     ]
    },
    {
     "name": "stdout",
     "output_type": "stream",
     "text": [
      "On module module_28 of 18\n"
     ]
    },
    {
     "name": "stderr",
     "output_type": "stream",
     "text": [
      "                                                                                                                        \r"
     ]
    },
    {
     "name": "stdout",
     "output_type": "stream",
     "text": [
      "On module module_29 of 18\n"
     ]
    },
    {
     "name": "stderr",
     "output_type": "stream",
     "text": [
      "                                                                                                                        \r"
     ]
    },
    {
     "name": "stdout",
     "output_type": "stream",
     "text": [
      "On module module_3 of 18\n"
     ]
    },
    {
     "name": "stderr",
     "output_type": "stream",
     "text": [
      "                                                                                                                        \r"
     ]
    },
    {
     "name": "stdout",
     "output_type": "stream",
     "text": [
      "On module module_30 of 18\n"
     ]
    },
    {
     "name": "stderr",
     "output_type": "stream",
     "text": [
      "                                                                                                                        \r"
     ]
    },
    {
     "name": "stdout",
     "output_type": "stream",
     "text": [
      "On module module_31 of 18\n"
     ]
    },
    {
     "name": "stderr",
     "output_type": "stream",
     "text": [
      "                                                                                                                        \r"
     ]
    },
    {
     "name": "stdout",
     "output_type": "stream",
     "text": [
      "On module module_32 of 18\n"
     ]
    },
    {
     "name": "stderr",
     "output_type": "stream",
     "text": [
      "                                                                                                                        \r"
     ]
    },
    {
     "name": "stdout",
     "output_type": "stream",
     "text": [
      "On module module_34 of 18\n"
     ]
    },
    {
     "name": "stderr",
     "output_type": "stream",
     "text": [
      "                                                                                                                        \r"
     ]
    },
    {
     "name": "stdout",
     "output_type": "stream",
     "text": [
      "On module module_4 of 18\n"
     ]
    },
    {
     "name": "stderr",
     "output_type": "stream",
     "text": [
      "                                                                                                                        \r"
     ]
    },
    {
     "name": "stdout",
     "output_type": "stream",
     "text": [
      "On module module_42 of 18\n"
     ]
    },
    {
     "name": "stderr",
     "output_type": "stream",
     "text": [
      "                                                                                                                        \r"
     ]
    },
    {
     "name": "stdout",
     "output_type": "stream",
     "text": [
      "On module module_5 of 18\n"
     ]
    },
    {
     "name": "stderr",
     "output_type": "stream",
     "text": [
      "                                                                                                                        \r"
     ]
    },
    {
     "name": "stdout",
     "output_type": "stream",
     "text": [
      "On module module_6 of 18\n"
     ]
    },
    {
     "name": "stderr",
     "output_type": "stream",
     "text": [
      "                                                                                                                        \r"
     ]
    },
    {
     "name": "stdout",
     "output_type": "stream",
     "text": [
      "On module module_77 of 18\n"
     ]
    },
    {
     "name": "stderr",
     "output_type": "stream",
     "text": [
      "                                                                                                                        \r"
     ]
    }
   ],
   "source": [
    "fisher_cats = defaultdict(dict)\n",
    "for module, results in motif_matches_forward_only.items():\n",
    "    print(f'On module {module} of {len(motif_matches_forward_only)}')\n",
    "    for motif, matches in tqdm(results.items(), leave=False):\n",
    "        in_module = matches[matches.iloc[:, 0].isin(module_members['ATL'][module])]\n",
    "        in_mod_w_motif = in_module[~in_module.iloc[:, -1].isna()]\n",
    "        in_mod_wo_motif = in_module[in_module.iloc[:, -1].isna()]\n",
    "        out_mod = [g for g in all_module_genes_ATL if g not in in_module.iloc[:, 0].tolist()]\n",
    "        out_mod_all = matches[matches.iloc[:, 0].isin(out_mod)]\n",
    "        out_mod_w_motif = out_mod_all[~out_mod_all.iloc[:, -1].isna()]\n",
    "        out_mod_wo_motif = out_mod_all[out_mod_all.iloc[:, -1].isna()]\n",
    "        fisher_cats[module][motif] = {\n",
    "            'in_mod_with_motif': in_mod_w_motif,\n",
    "            'in_mod_without_motif': in_mod_wo_motif,\n",
    "            'out_mod_with_motif': out_mod_w_motif,\n",
    "            'out_mod_without_motif': out_mod_wo_motif\n",
    "        }"
   ]
  },
  {
   "cell_type": "markdown",
   "id": "90a3611a-36b2-4490-8441-ede3388668e3",
   "metadata": {},
   "source": [
    "## Statistical testing\n",
    "We now want to perform a Fisher's exact test on each motif/module combination to see if it's enriched in ATL in addition to CND (which we already know from the HOMER analysis). Fisher's will also test positive if the motif appears many times in one group and none in the other, so we will have to visually check the contingecy tables for those that are statistically significant.\n",
    "\n",
    "First, get the contingency tables:"
   ]
  },
  {
   "cell_type": "code",
   "execution_count": 59,
   "id": "425967cc-c153-4937-8304-54738ea5af7b",
   "metadata": {},
   "outputs": [],
   "source": [
    "fisher_numbers = {\n",
    "    mod: {\n",
    "        motif: [[len(m['in_mod_with_motif']), len(m['in_mod_without_motif'])], [len(m['out_mod_with_motif']), len(m['out_mod_without_motif'])]]\n",
    "         for motif, m in motifs.items()    \n",
    "    }\n",
    "    \n",
    "    for mod, motifs in fisher_cats.items()\n",
    "}"
   ]
  },
  {
   "cell_type": "markdown",
   "id": "52ba98b5-7dc7-4e52-9914-2a4acf8fec58",
   "metadata": {},
   "source": [
    "Perform the test:"
   ]
  },
  {
   "cell_type": "code",
   "execution_count": 77,
   "id": "755290e3-6a57-4ea6-b96e-5ee9a45e5c89",
   "metadata": {},
   "outputs": [],
   "source": [
    "fisher_results = {\n",
    "    mod: {\n",
    "        motif: fisher_exact(table, alternative='greater') for motif, table in motifs.items()\n",
    "    }\n",
    "    for mod, motifs in fisher_numbers.items()\n",
    "}"
   ]
  },
  {
   "cell_type": "markdown",
   "id": "27163a5a-cdde-473b-bd99-da65b9cf7523",
   "metadata": {},
   "source": [
    "We need to apply a multiple testing correction, which we'll do with `scipy.stats.false_discovery_control` using the `Benjaminini-Yekutieli` correction. First, we need to flatten the results so we can provide a 1D array of p-values to be corrected."
   ]
  },
  {
   "cell_type": "code",
   "execution_count": 81,
   "id": "7d1ad08c-4011-4b5c-ae5d-e42e4818088b",
   "metadata": {},
   "outputs": [],
   "source": [
    "to_correct = []\n",
    "to_correct_names = []\n",
    "for module, motifs in fisher_results.items():\n",
    "    for motif, res in motifs.items():\n",
    "        to_correct.append(res[1])\n",
    "        to_correct_names.append(module + '_' + motif)"
   ]
  },
  {
   "cell_type": "markdown",
   "id": "37c734ce-9249-4141-8564-34dfae4679e1",
   "metadata": {},
   "source": [
    "Now apply the correction:"
   ]
  },
  {
   "cell_type": "code",
   "execution_count": 82,
   "id": "05d0e988-943d-4904-917c-bc8c8f26e89b",
   "metadata": {},
   "outputs": [],
   "source": [
    "corrected_ps = false_discovery_control(to_correct, method='by')"
   ]
  },
  {
   "cell_type": "markdown",
   "id": "08c2a3d1-2651-47fd-b118-ba5c452cc8eb",
   "metadata": {},
   "source": [
    "How much did this impact the number of motifs per module that come back significant?"
   ]
  },
  {
   "cell_type": "code",
   "execution_count": 86,
   "id": "171aee83-2c29-4291-bda8-f1017f81d2bb",
   "metadata": {},
   "outputs": [
    {
     "data": {
      "text/plain": [
       "(560, 437)"
      ]
     },
     "execution_count": 86,
     "metadata": {},
     "output_type": "execute_result"
    }
   ],
   "source": [
    "len([p for p in to_correct if p < 0.05]), len([p for p in corrected_ps if p < 0.05])"
   ]
  },
  {
   "cell_type": "markdown",
   "id": "3259423b-adff-43fa-9b25-16b41536666c",
   "metadata": {},
   "source": [
    "Filter out the non-significant results as we combine the names and p-values again:"
   ]
  },
  {
   "cell_type": "code",
   "execution_count": 92,
   "id": "ccdebb8f-6bd6-4dc1-a383-f26ed66e1a0e",
   "metadata": {},
   "outputs": [],
   "source": [
    "corrected_p_results = {cn: cp for cn, cp in zip(to_correct_names, corrected_ps) if cp < 0.05}"
   ]
  },
  {
   "cell_type": "markdown",
   "id": "f0099573-af3c-4528-8edc-a109156965c9",
   "metadata": {},
   "source": [
    "## Cross-module comparisons\n",
    "While we've been able to somewhat narrow down the number of motifs of interest by checking if they're also enriched in the same module in ATL as in CND where they were identified, we still have a prohibitively large number of motifs. Another way we can narrow these down is to consider that we want motifs that appear in multiple modules. In particular, we want to identify motifs that appear in multiple \"shifted\" modules, where shifting means that ATL is late compared to CND, which is our phenotype of interest. To do this, we'll take a similar approach as above, but instead of checking the motifs within their original modules, we will also check them across other modules. We will only consider those that tested significant in the previous section.\n",
    "\n",
    "To make this easier, flatten all the data by making composite names containing both module and motif numbers:"
   ]
  },
  {
   "cell_type": "code",
   "execution_count": 113,
   "id": "669ef0a1-cf21-49d8-a5b8-f0e2f174f662",
   "metadata": {},
   "outputs": [
    {
     "data": {
      "text/plain": [
       "437"
      ]
     },
     "execution_count": 113,
     "metadata": {},
     "output_type": "execute_result"
    }
   ],
   "source": [
    "flattened_matched_motifs = {f'{module}_{motif}': matches for module, motifs in motif_matches_forward_only.items() for motif, matches in motifs.items() if f'{module}_{motif}' in corrected_p_results.keys()}\n",
    "len(flattened_matched_motifs)"
   ]
  },
  {
   "cell_type": "markdown",
   "id": "527f8792-9282-4b1d-95d6-ebb9fd1c9394",
   "metadata": {},
   "source": [
    "We now need every pairwise comparison of module and motif, and to create the Fisher's contingency table for each of these comparisons."
   ]
  },
  {
   "cell_type": "code",
   "execution_count": 115,
   "id": "6c89fbd7-e2fb-434e-9b6a-3f2d6267c8f8",
   "metadata": {},
   "outputs": [],
   "source": [
    "module_names = list(motif_matches_forward_only.keys())\n",
    "motif_names = list(flattened_matched_motifs.keys())"
   ]
  },
  {
   "cell_type": "markdown",
   "id": "c9c838a1-469d-45cb-9908-cf03da9f6517",
   "metadata": {},
   "source": [
    "I'm going to streamline the process of creating the contingency table and doing the testing so we don't need to loop over all the combinations multiple times:"
   ]
  },
  {
   "cell_type": "code",
   "execution_count": 145,
   "id": "8de99404-53bd-453a-aa29-195f73ea3991",
   "metadata": {},
   "outputs": [
    {
     "name": "stderr",
     "output_type": "stream",
     "text": [
      "7866it [1:33:25,  1.40it/s]\n"
     ]
    }
   ],
   "source": [
    "cross_fisher_results = {}\n",
    "for module, motif in tqdm(product(module_names, motif_names)):\n",
    "    matches = flattened_matched_motifs[motif]\n",
    "    in_module = matches[matches.iloc[:, 0].isin(module_members['ATL'][module])]\n",
    "    in_mod_w_motif = len(in_module[~in_module.iloc[:, -1].isna()])\n",
    "    in_mod_wo_motif = len(in_module[in_module.iloc[:, -1].isna()])\n",
    "    out_mod = [g for g in all_module_genes_ATL if g not in in_module.iloc[:, 0].tolist()]\n",
    "    out_mod_all = matches[matches.iloc[:, 0].isin(out_mod)]\n",
    "    out_mod_w_motif = len(out_mod_all[~out_mod_all.iloc[:, -1].isna()])\n",
    "    out_mod_wo_motif = len(out_mod_all[out_mod_all.iloc[:, -1].isna()])\n",
    "    contingency_table = [[in_mod_w_motif, in_mod_wo_motif], [out_mod_w_motif, out_mod_wo_motif]]\n",
    "    fisher_res = fisher_exact(contingency_table, alternative='greater')\n",
    "    cross_fisher_results[f'{module}__{motif}'] = fisher_res"
   ]
  },
  {
   "cell_type": "markdown",
   "id": "dda14b4c-65c1-442a-a95f-7549bb856d83",
   "metadata": {},
   "source": [
    "Save the results so we don't need to run it again:"
   ]
  },
  {
   "cell_type": "code",
   "execution_count": 146,
   "id": "9a9971de-c319-44ca-818f-039731024da1",
   "metadata": {},
   "outputs": [],
   "source": [
    "with open('../data/statistical_testing/29Apr2025_cross_module_fisher.json', 'w') as f:\n",
    "    json.dump(cross_fisher_results, f)"
   ]
  },
  {
   "cell_type": "markdown",
   "id": "cdc1544e-fade-435a-92b3-626630e5c376",
   "metadata": {},
   "source": [
    "Perform multiple testing correction:"
   ]
  },
  {
   "cell_type": "code",
   "execution_count": 166,
   "id": "6f0dd9a0-5690-4493-8653-ba40a2660faa",
   "metadata": {},
   "outputs": [],
   "source": [
    "cross_ps = [res[1] for res in cross_fisher_results.values()]\n",
    "corrected_cross_ps = false_discovery_control(cross_ps, method='by')\n",
    "corrected_cross_ps_dict = {k: p for k, p in zip(cross_fisher_results.keys(), corrected_cross_ps) if p < 0.05}"
   ]
  },
  {
   "cell_type": "markdown",
   "id": "3e75e574-6647-4b21-b7f9-5bb33f48a6e8",
   "metadata": {},
   "source": [
    "Impact of the correction:"
   ]
  },
  {
   "cell_type": "code",
   "execution_count": 167,
   "id": "7cf54173-d81c-4447-84d9-fa4a56831a95",
   "metadata": {},
   "outputs": [
    {
     "data": {
      "text/plain": [
       "(901, 335)"
      ]
     },
     "execution_count": 167,
     "metadata": {},
     "output_type": "execute_result"
    }
   ],
   "source": [
    "len([p for p in cross_ps if p < 0.05]), len([p for p in corrected_cross_ps if p < 0.05])"
   ]
  },
  {
   "cell_type": "markdown",
   "id": "aabdcf0c-17af-4757-bc6e-8065f96f73d5",
   "metadata": {},
   "source": [
    "We now need to check for the presence of these motifs in the modules that are shifted in ATL. THese are modules with a mean lag of greater than 0.75. First, let's read in the lag data:"
   ]
  },
  {
   "cell_type": "code",
   "execution_count": 168,
   "id": "7568fd19-62fe-4791-b988-68ac9fe3e44b",
   "metadata": {},
   "outputs": [
    {
     "data": {
      "text/html": [
       "<div>\n",
       "<style scoped>\n",
       "    .dataframe tbody tr th:only-of-type {\n",
       "        vertical-align: middle;\n",
       "    }\n",
       "\n",
       "    .dataframe tbody tr th {\n",
       "        vertical-align: top;\n",
       "    }\n",
       "\n",
       "    .dataframe thead th {\n",
       "        text-align: right;\n",
       "    }\n",
       "</style>\n",
       "<table border=\"1\" class=\"dataframe\">\n",
       "  <thead>\n",
       "    <tr style=\"text-align: right;\">\n",
       "      <th></th>\n",
       "      <th>module</th>\n",
       "      <th>mean_lag</th>\n",
       "      <th>lag_std</th>\n",
       "      <th>lag</th>\n",
       "      <th>corr</th>\n",
       "      <th>Avgs_Diff</th>\n",
       "    </tr>\n",
       "  </thead>\n",
       "  <tbody>\n",
       "    <tr>\n",
       "      <th>0</th>\n",
       "      <td>0</td>\n",
       "      <td>5.792000</td>\n",
       "      <td>1.704860</td>\n",
       "      <td>6</td>\n",
       "      <td>1.024301</td>\n",
       "      <td>-0.208000</td>\n",
       "    </tr>\n",
       "    <tr>\n",
       "      <th>1</th>\n",
       "      <td>1</td>\n",
       "      <td>3.589242</td>\n",
       "      <td>3.601128</td>\n",
       "      <td>6</td>\n",
       "      <td>0.779887</td>\n",
       "      <td>-2.410758</td>\n",
       "    </tr>\n",
       "    <tr>\n",
       "      <th>2</th>\n",
       "      <td>2</td>\n",
       "      <td>2.756677</td>\n",
       "      <td>3.218191</td>\n",
       "      <td>4</td>\n",
       "      <td>0.763333</td>\n",
       "      <td>-1.243323</td>\n",
       "    </tr>\n",
       "    <tr>\n",
       "      <th>3</th>\n",
       "      <td>3</td>\n",
       "      <td>6.290618</td>\n",
       "      <td>1.320463</td>\n",
       "      <td>6</td>\n",
       "      <td>1.020063</td>\n",
       "      <td>0.290618</td>\n",
       "    </tr>\n",
       "    <tr>\n",
       "      <th>4</th>\n",
       "      <td>4</td>\n",
       "      <td>3.015656</td>\n",
       "      <td>1.946832</td>\n",
       "      <td>4</td>\n",
       "      <td>1.047411</td>\n",
       "      <td>-0.984344</td>\n",
       "    </tr>\n",
       "  </tbody>\n",
       "</table>\n",
       "</div>"
      ],
      "text/plain": [
       "   module  mean_lag   lag_std  lag      corr  Avgs_Diff\n",
       "0       0  5.792000  1.704860    6  1.024301  -0.208000\n",
       "1       1  3.589242  3.601128    6  0.779887  -2.410758\n",
       "2       2  2.756677  3.218191    4  0.763333  -1.243323\n",
       "3       3  6.290618  1.320463    6  1.020063   0.290618\n",
       "4       4  3.015656  1.946832    4  1.047411  -0.984344"
      ]
     },
     "execution_count": 168,
     "metadata": {},
     "output_type": "execute_result"
    }
   ],
   "source": [
    "module_lags = pd.read_csv('/home/farre/Ann/RNAseq/for_serena/module_results/ATL_ShD_Leaf_vs_CND_ShD_Leaf_module_averages_correlations.csv')\n",
    "module_lags.head()"
   ]
  },
  {
   "cell_type": "code",
   "execution_count": 155,
   "id": "c14c2476-34e0-4d42-8b9d-875acabc1297",
   "metadata": {},
   "outputs": [],
   "source": [
    "modules_to_check = [f'module_{module}' for module in module_lags[module_lags.mean_lag > 0.75].module.tolist()]"
   ]
  },
  {
   "cell_type": "markdown",
   "id": "80568882-ee51-4f59-86b2-44fbb84bd6c6",
   "metadata": {},
   "source": [
    "The crosschecked p-values also contain the same within-module checks that we already performed, so let's remove any where the module in the module and the module in the motif are the same. How many are we left with?"
   ]
  },
  {
   "cell_type": "code",
   "execution_count": 169,
   "id": "8a3a73dd-cafb-47a0-8b20-a8e57dc9e374",
   "metadata": {},
   "outputs": [],
   "source": [
    "corrected_cross_ps_dict = {k:v for k, v in corrected_cross_ps_dict.items() if k.split('_')[1] != k.split('_')[4]}"
   ]
  },
  {
   "cell_type": "code",
   "execution_count": 170,
   "id": "52535991-fa02-41e8-9d49-9ad16117b63a",
   "metadata": {},
   "outputs": [
    {
     "data": {
      "text/plain": [
       "38"
      ]
     },
     "execution_count": 170,
     "metadata": {},
     "output_type": "execute_result"
    }
   ],
   "source": [
    "len(corrected_cross_ps_dict)"
   ]
  },
  {
   "cell_type": "markdown",
   "id": "b1d3f0a0-9cdc-4122-be79-52f63471c721",
   "metadata": {},
   "source": [
    "This is a manageable number of motifs! For each motif, what is the proportion of modules it appears in that are shifted?"
   ]
  },
  {
   "cell_type": "code",
   "execution_count": 173,
   "id": "1368072c-23c5-495f-ba99-172746a75a27",
   "metadata": {},
   "outputs": [],
   "source": [
    "motif_to_mod = defaultdict(list)\n",
    "for k in corrected_cross_ps_dict:\n",
    "    mod, motif = k.split('__')\n",
    "    motif_to_mod[motif].append(mod)"
   ]
  },
  {
   "cell_type": "code",
   "execution_count": 177,
   "id": "fe15013b-98fd-4ce3-a7f1-3eee3dd42e3e",
   "metadata": {},
   "outputs": [
    {
     "name": "stdout",
     "output_type": "stream",
     "text": [
      "The maximum number of modules any one motif appears enriched in is 2\n"
     ]
    }
   ],
   "source": [
    "print(f'The maximum number of modules any one motif appears enriched in is {max([len(v) for v in motif_to_mod.values()])}')"
   ]
  },
  {
   "cell_type": "code",
   "execution_count": 180,
   "id": "eb522c38-e014-469d-badd-f30d0984de3e",
   "metadata": {},
   "outputs": [],
   "source": [
    "prop_shifted = {k: len([mod for mod in v if mod in modules_to_check])/len(v) for k, v in motif_to_mod.items()}"
   ]
  },
  {
   "cell_type": "code",
   "execution_count": 183,
   "id": "9a1a3614-9e44-47f1-a651-3f060e2c78f0",
   "metadata": {},
   "outputs": [
    {
     "data": {
      "image/png": "[encoded data removed]",
      "text/plain": [
       "<Figure size 640x480 with 1 Axes>"
      ]
     },
     "metadata": {},
     "output_type": "display_data"
    }
   ],
   "source": [
    "_ = plt.hist(prop_shifted.values())\n",
    "_ = plt.xlabel('Proportion of modules present that are shifted')\n",
    "_ = plt.ylabel('Number of motifs')"
   ]
  },
  {
   "cell_type": "markdown",
   "id": "2ed08712-a91e-441c-9016-12157ab8d4b1",
   "metadata": {},
   "source": [
    "Now what happens if we remove motifs that aren't present in any shifted modules?"
   ]
  },
  {
   "cell_type": "code",
   "execution_count": 190,
   "id": "3697965e-7ae7-481b-b73d-3268304c60fd",
   "metadata": {},
   "outputs": [],
   "source": [
    "motifs_of_interest = {m: motif_to_mod[m] for m, v in prop_shifted.items() if v > 0}"
   ]
  },
  {
   "cell_type": "code",
   "execution_count": 191,
   "id": "f0d0f62e-e923-4cd6-8e17-173c1d9e7969",
   "metadata": {},
   "outputs": [
    {
     "data": {
      "text/plain": [
       "{'module_30_motif22': ['module_0'],\n",
       " 'module_0_motif12': ['module_1'],\n",
       " 'module_2_motif17': ['module_1'],\n",
       " 'module_1_motif19': ['module_2'],\n",
       " 'module_32_motif2': ['module_2'],\n",
       " 'module_77_motif13': ['module_2', 'module_32'],\n",
       " 'module_1_motif7': ['module_26'],\n",
       " 'module_27_motif10': ['module_26'],\n",
       " 'module_27_motif40': ['module_26'],\n",
       " 'module_28_motif18': ['module_26'],\n",
       " 'module_30_motif39': ['module_26', 'module_5'],\n",
       " 'module_32_motif1': ['module_26', 'module_28'],\n",
       " 'module_26_motif14': ['module_27'],\n",
       " 'module_30_motif30': ['module_28'],\n",
       " 'module_6_motif26': ['module_3'],\n",
       " 'module_6_motif2': ['module_3'],\n",
       " 'module_25_motif15': ['module_34'],\n",
       " 'module_3_motif26': ['module_34'],\n",
       " 'module_31_motif1': ['module_34'],\n",
       " 'module_32_motif5': ['module_34'],\n",
       " 'module_2_motif30': ['module_4'],\n",
       " 'module_42_motif9': ['module_6']}"
      ]
     },
     "execution_count": 191,
     "metadata": {},
     "output_type": "execute_result"
    }
   ],
   "source": [
    "motifs_of_interest"
   ]
  },
  {
   "cell_type": "markdown",
   "id": "534b1e54-324f-4f7f-a341-e88398932e83",
   "metadata": {},
   "source": [
    "Interestingly, we don't really see what we would expect, where a single motif would appear in multiple modules; however, modules 26 and 34 appear to have multiple motifs that are enriched."
   ]
  }
 ],
 "metadata": {
  "kernelspec": {
   "display_name": "Genetics",
   "language": "python",
   "name": "genetics"
  },
  "language_info": {
   "codemirror_mode": {
    "name": "ipython",
    "version": 3
   },
   "file_extension": ".py",
   "mimetype": "text/x-python",
   "name": "python",
   "nbconvert_exporter": "python",
   "pygments_lexer": "ipython3",
   "version": "3.10.14"
  }
 },
 "nbformat": 4,
 "nbformat_minor": 5
}
